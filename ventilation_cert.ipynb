{
  "nbformat": 4,
  "nbformat_minor": 0,
  "metadata": {
    "colab": {
      "name": "ventilation-cert.ipynb",
      "provenance": [],
      "collapsed_sections": [],
      "include_colab_link": true
    },
    "kernelspec": {
      "name": "python3",
      "display_name": "Python 3"
    },
    "language_info": {
      "name": "python"
    }
  },
  "cells": [
    {
      "cell_type": "markdown",
      "metadata": {
        "id": "view-in-github",
        "colab_type": "text"
      },
      "source": [
        "<a href=\"https://colab.research.google.com/github/irenfonseca/ventilation_certificate/blob/main/ventilation_cert.ipynb\" target=\"_parent\"><img src=\"https://colab.research.google.com/assets/colab-badge.svg\" alt=\"Open In Colab\"/></a>"
      ]
    },
    {
      "cell_type": "markdown",
      "metadata": {
        "id": "EIdT9iu_Z4Rb"
      },
      "source": [
        "#Ventilation certificate"
      ]
    },
    {
      "cell_type": "code",
      "execution_count": null,
      "metadata": {
        "id": "moB4tpEHxKB3"
      },
      "outputs": [],
      "source": [
        "# Data import \n",
        "!pip install seaborn\n",
        "import pathlib\n",
        "\n",
        "import matplotlib.pyplot as plt\n",
        "import pandas as pd\n",
        "import seaborn as sns\n",
        "\n",
        "import tensorflow as tf\n",
        "\n",
        "from tensorflow import keras\n",
        "from tensorflow.keras import layers\n",
        "\n",
        "from tensorflow.keras.callbacks import TensorBoard\n",
        "\n",
        "print(tf.__version__)"
      ]
    },
    {
      "cell_type": "markdown",
      "source": [
        "### Data preparation"
      ],
      "metadata": {
        "id": "bK2emDYEe3Mk"
      }
    },
    {
      "cell_type": "markdown",
      "metadata": {
        "id": "gFh9ne3FZ-On"
      },
      "source": [
        "#### Getting data from google drive\n",
        "The data are preprocessed for nominal values with one-hot"
      ]
    },
    {
      "cell_type": "code",
      "source": [
        "from google.colab import auth\n",
        "auth.authenticate_user()\n",
        "\n",
        "import gspread\n",
        "from google.auth import default\n",
        "creds, _ = default()\n",
        "\n",
        "gc = gspread.authorize(creds)\n",
        "worksheet = gc.open('data').sheet1\n",
        "\n",
        "# get_all_values gives a list of rows.\n",
        "rows = worksheet.get_all_values()\n",
        "\n",
        "import pandas as pd\n",
        "dataset = pd.DataFrame.from_records(rows)\n",
        "dataset = dataset.astype(int)\n",
        "\n",
        "print(dataset.head())\n",
        "print(dataset.shape)"
      ],
      "metadata": {
        "id": "2fZ5e710AttL"
      },
      "execution_count": null,
      "outputs": []
    },
    {
      "cell_type": "markdown",
      "source": [
        "Checking all data are correct\n",
        "\n"
      ],
      "metadata": {
        "id": "TVthUY4KzHWQ"
      }
    },
    {
      "cell_type": "code",
      "source": [
        "dataset.isna().sum()"
      ],
      "metadata": {
        "id": "oRXGRmkmy8Ft",
        "colab": {
          "base_uri": "https://localhost:8080/"
        },
        "outputId": "69c5a5c1-ba86-4fd4-9eec-995d28c58592"
      },
      "execution_count": null,
      "outputs": [
        {
          "output_type": "execute_result",
          "data": {
            "text/plain": [
              "0     0\n",
              "1     0\n",
              "2     0\n",
              "3     0\n",
              "4     0\n",
              "5     0\n",
              "6     0\n",
              "7     0\n",
              "8     0\n",
              "9     0\n",
              "10    0\n",
              "dtype: int64"
            ]
          },
          "metadata": {},
          "execution_count": 3
        }
      ]
    },
    {
      "cell_type": "markdown",
      "metadata": {
        "id": "K8iPPvwBurQA"
      },
      "source": [
        "#### Separate data into training and testing\n"
      ]
    },
    {
      "cell_type": "code",
      "source": [
        "train_dataset = dataset.sample(frac=0.8,random_state=0)\n",
        "train_dataset = train_dataset.astype(int)\n",
        "\n",
        "test_dataset = dataset.drop(train_dataset.index)\n",
        "test_dataset = test_dataset.astype(int)\n",
        "\n",
        "train_dataset.head()\n"
      ],
      "metadata": {
        "id": "pSbLFFlyE5CY"
      },
      "execution_count": null,
      "outputs": []
    },
    {
      "cell_type": "markdown",
      "source": [
        "#### Statistics"
      ],
      "metadata": {
        "id": "TdGNA1ajwZ0w"
      }
    },
    {
      "cell_type": "code",
      "source": [
        "train_stats = train_dataset.describe()\n",
        "train_stats.pop(10)\n",
        "train_stats = train_stats.transpose()\n",
        "train_stats\n"
      ],
      "metadata": {
        "id": "wviVv0qnwLMH"
      },
      "execution_count": null,
      "outputs": []
    },
    {
      "cell_type": "markdown",
      "metadata": {
        "id": "Db7Auq1yXUvh"
      },
      "source": [
        "#### Separate features from tags.\n",
        "\n"
      ]
    },
    {
      "cell_type": "code",
      "source": [
        "train_labels = train_dataset.pop(10)\n",
        "test_labels = test_dataset.pop(10)"
      ],
      "metadata": {
        "id": "xfeB7-AbwoAZ"
      },
      "execution_count": null,
      "outputs": []
    },
    {
      "cell_type": "markdown",
      "metadata": {
        "id": "mRklxK5s388r"
      },
      "source": [
        "#### Data normalization"
      ]
    },
    {
      "cell_type": "code",
      "source": [
        "def norm(x):\n",
        "  return (x - train_stats['mean']) / train_stats['std']\n",
        "normed_train_data = norm(train_dataset)\n",
        "normed_test_data = norm(test_dataset)\n",
        "normed_train_data = normed_train_data.astype(int)\n",
        "normed_test_data = normed_test_data.astype(int)\n",
        "\n"
      ],
      "metadata": {
        "id": "bPpXbYzKFQ3z"
      },
      "execution_count": null,
      "outputs": []
    },
    {
      "cell_type": "markdown",
      "metadata": {
        "id": "SmjdzxKzEu1-"
      },
      "source": [
        "### The model"
      ]
    },
    {
      "cell_type": "code",
      "source": [
        "model = keras.Sequential([\n",
        "    layers.Dense(100, activation='relu', input_shape=[len(train_dataset.keys())]),\n",
        "    keras.layers.Dense(70, activation='relu'),\n",
        "    keras.layers.Dense(1, activation='sigmoid')\n",
        "\n",
        "])"
      ],
      "metadata": {
        "id": "q-vPTRWIhzjS"
      },
      "execution_count": null,
      "outputs": []
    },
    {
      "cell_type": "code",
      "source": [
        "model.compile(optimizer='adam',\n",
        "              loss='binary_crossentropy',\n",
        "              metrics=['accuracy'])\n",
        "\n"
      ],
      "metadata": {
        "id": "AsdAbQiah6sX"
      },
      "execution_count": null,
      "outputs": []
    },
    {
      "cell_type": "markdown",
      "metadata": {
        "id": "0-qWCsh6DlyH"
      },
      "source": [
        "#### Training \n",
        "\n",
        "Using  early stop to avoid overfit"
      ]
    },
    {
      "cell_type": "code",
      "source": [
        "tensorboardModel = TensorBoard(log_dir='logs/model')\n",
        "model.fit(normed_train_data, train_labels, epochs=50, validation_split = 0.2, callbacks=[tensorboardModel])\n",
        "\n"
      ],
      "metadata": {
        "id": "4Fbj8_utiAs6"
      },
      "execution_count": null,
      "outputs": []
    },
    {
      "cell_type": "code",
      "source": [
        "%load_ext tensorboard"
      ],
      "metadata": {
        "id": "_IfUHQ0C0sus"
      },
      "execution_count": null,
      "outputs": []
    },
    {
      "cell_type": "code",
      "source": [
        "%tensorboard --logdir logs/"
      ],
      "metadata": {
        "id": "2Oot9gbq1EiM"
      },
      "execution_count": null,
      "outputs": []
    }
  ]
}